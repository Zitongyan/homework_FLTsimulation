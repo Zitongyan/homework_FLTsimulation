{
 "cells": [
  {
   "cell_type": "markdown",
   "metadata": {},
   "source": [
    "## 作业1：跳伞运动员仿真\n",
    "   一名高空跳伞运动员从飞机上跳下，能够确定海拔高度和运动员自由下落的速度吗？在上一个实例中，炮弹总是保持$500m/s$的水平初速度（知道落入海中）。实际情况下，空气的摩擦阻力将使炮弹减速。同样，作用在运动员身上的重力同样受到空气摩擦力的影响，并随着运动员速度的增加而变大。最终，这一阻力将导致向上的摩擦力与向下的重力平衡，使合外力为零。在这一点，运动员将不再加速并保持稳态速度。\n",
    "    根据基本空气动力学理论，运动员所受阻力由下式表示：\n",
    "$$drag={1\\over2}\\rho v^2SC_d$$\n",
    "式中，$\\rho$为空气密度，$v$为速度，$S$为表面积，$C_d$为阻力系数。\n",
    "    该公式的计算显然比较复杂。首先，空气密度$\\rho$随着海拔高度而变化；第二，总阻力随着速度的平方变化；第三，运动员的表面积随着其运动而变化；最后，阻力系数取决于运动员伞具采用材料的摩擦力系数。这四个变量都是非线性的，因此很难推导出这个公式的显式解。\n",
    "    为简化这个问题，假设$\\rho=1.225kg/m^3$，$S=1.0m^2$，$C_d=0.05$，因此仅有$v$为非线性项。使用Euler法模拟整个运动过程，而不是直接求解公式。\n",
    "    改变伞打开的时间，观察跳伞运动员的运动状态变化。"
   ]
  },
  {
   "cell_type": "code",
   "execution_count": 74,
   "metadata": {},
   "outputs": [],
   "source": [
    "# Configure Jupyter so figures appear in the notebook\n",
    "%matplotlib inline\n",
    "\n",
    "# Configure Jupyter to display the assigned value after an assignment\n",
    "%config InteractiveShell.ast_node_interactivity='last_expr_or_assign'\n",
    "\n",
    "# import functions from the modsim.py module\n",
    "from modsim import *\n",
    "import numpy as np\n",
    "import pandas as pd"
   ]
  },
  {
   "cell_type": "code",
   "execution_count": 75,
   "metadata": {},
   "outputs": [
    {
     "data": {
      "text/html": [
       "<div>\n",
       "<style scoped>\n",
       "    .dataframe tbody tr th:only-of-type {\n",
       "        vertical-align: middle;\n",
       "    }\n",
       "\n",
       "    .dataframe tbody tr th {\n",
       "        vertical-align: top;\n",
       "    }\n",
       "\n",
       "    .dataframe thead th {\n",
       "        text-align: right;\n",
       "    }\n",
       "</style>\n",
       "<table border=\"1\" class=\"dataframe\">\n",
       "  <thead>\n",
       "    <tr style=\"text-align: right;\">\n",
       "      <th></th>\n",
       "      <th>values</th>\n",
       "    </tr>\n",
       "  </thead>\n",
       "  <tbody>\n",
       "    <tr>\n",
       "      <th>init</th>\n",
       "      <td>y          3000.0 meter\n",
       "v    0.0 meter / secon...</td>\n",
       "    </tr>\n",
       "    <tr>\n",
       "      <th>g</th>\n",
       "      <td>9.8 meter / second ** 2</td>\n",
       "    </tr>\n",
       "    <tr>\n",
       "      <th>t_end</th>\n",
       "      <td>15 second</td>\n",
       "    </tr>\n",
       "    <tr>\n",
       "      <th>dt</th>\n",
       "      <td>0.01 second</td>\n",
       "    </tr>\n",
       "  </tbody>\n",
       "</table>\n",
       "</div>"
      ],
      "text/plain": [
       "init     y          3000.0 meter\n",
       "v    0.0 meter / secon...\n",
       "g                                  9.8 meter / second ** 2\n",
       "t_end                                            15 second\n",
       "dt                                             0.01 second\n",
       "dtype: object"
      ]
     },
     "execution_count": 75,
     "metadata": {},
     "output_type": "execute_result"
    }
   ],
   "source": [
    "kg=UNITS.kg\n",
    "m = UNITS.meter\n",
    "s = UNITS.second\n",
    "g = 9.8 * m/s**2  \n",
    "weight=85*kg\n",
    "density=1.225*kg/m**3  #密度\n",
    "S=1.0*m**2 #面积\n",
    "Cd=0.05   #阻力系数\n",
    "t_open=15*s  #开伞时间\n",
    "dt=0.01*s    #步长\n",
    "height=3000.0*m\n",
    "t_end=30*s\n",
    "\n",
    "init_z = State(y=3000.0 * m, v=0.0 * m/s)\n",
    "system_z = System(init=init_z, g=g, t_end=t_open, dt=dt)"
   ]
  },
  {
   "cell_type": "code",
   "execution_count": 76,
   "metadata": {},
   "outputs": [],
   "source": [
    "def slope_func_z(state, t, system):\n",
    "    y, v = state\n",
    "    \n",
    "    dydt = v\n",
    "    dvdt = -system.g\n",
    "    \n",
    "    return dydt, dvdt\n",
    "\n",
    "def slope_func_z_open(state, t, system):\n",
    "    y, v = state\n",
    "    drag=0.5*density*v*v*S*Cd\n",
    "    dydt = v\n",
    "    dvdt =drag/weight -system.g\n",
    "    \n",
    "    return dydt, dvdt"
   ]
  },
  {
   "cell_type": "code",
   "execution_count": 77,
   "metadata": {},
   "outputs": [],
   "source": [
    "results_z, details_z= run_euler(system_z, slope_func_z)"
   ]
  },
  {
   "cell_type": "code",
   "execution_count": 78,
   "metadata": {},
   "outputs": [
    {
     "data": {
      "text/html": [
       "<div>\n",
       "<style scoped>\n",
       "    .dataframe tbody tr th:only-of-type {\n",
       "        vertical-align: middle;\n",
       "    }\n",
       "\n",
       "    .dataframe tbody tr th {\n",
       "        vertical-align: top;\n",
       "    }\n",
       "\n",
       "    .dataframe thead th {\n",
       "        text-align: right;\n",
       "    }\n",
       "</style>\n",
       "<table border=\"1\" class=\"dataframe\">\n",
       "  <thead>\n",
       "    <tr style=\"text-align: right;\">\n",
       "      <th></th>\n",
       "      <th>values</th>\n",
       "    </tr>\n",
       "  </thead>\n",
       "  <tbody>\n",
       "    <tr>\n",
       "      <th>init</th>\n",
       "      <td>y              1898.2350000000067 meter\n",
       "v    -...</td>\n",
       "    </tr>\n",
       "    <tr>\n",
       "      <th>g</th>\n",
       "      <td>9.8 meter / second ** 2</td>\n",
       "    </tr>\n",
       "    <tr>\n",
       "      <th>t_0</th>\n",
       "      <td>15 second</td>\n",
       "    </tr>\n",
       "    <tr>\n",
       "      <th>t_end</th>\n",
       "      <td>30 second</td>\n",
       "    </tr>\n",
       "    <tr>\n",
       "      <th>dt</th>\n",
       "      <td>0.01 second</td>\n",
       "    </tr>\n",
       "  </tbody>\n",
       "</table>\n",
       "</div>"
      ],
      "text/plain": [
       "init     y              1898.2350000000067 meter\n",
       "v    -...\n",
       "g                                  9.8 meter / second ** 2\n",
       "t_0                                              15 second\n",
       "t_end                                            30 second\n",
       "dt                                             0.01 second\n",
       "dtype: object"
      ]
     },
     "execution_count": 78,
     "metadata": {},
     "output_type": "execute_result"
    }
   ],
   "source": [
    "system_z_open = System(init=results_z.iloc[-1], g=g, t_0=t_open, t_end=t_end, dt=dt)"
   ]
  },
  {
   "cell_type": "code",
   "execution_count": 79,
   "metadata": {},
   "outputs": [
    {
     "data": {
      "text/html": [
       "<div>\n",
       "<style scoped>\n",
       "    .dataframe tbody tr th:only-of-type {\n",
       "        vertical-align: middle;\n",
       "    }\n",
       "\n",
       "    .dataframe tbody tr th {\n",
       "        vertical-align: top;\n",
       "    }\n",
       "\n",
       "    .dataframe thead th {\n",
       "        text-align: right;\n",
       "    }\n",
       "</style>\n",
       "<table border=\"1\" class=\"dataframe\">\n",
       "  <thead>\n",
       "    <tr style=\"text-align: right;\">\n",
       "      <th></th>\n",
       "      <th>y</th>\n",
       "      <th>v</th>\n",
       "    </tr>\n",
       "  </thead>\n",
       "  <tbody>\n",
       "    <tr>\n",
       "      <th>0.00</th>\n",
       "      <td>3000.0 meter</td>\n",
       "      <td>0.0 meter / second</td>\n",
       "    </tr>\n",
       "    <tr>\n",
       "      <th>0.01</th>\n",
       "      <td>3000.0 meter</td>\n",
       "      <td>-0.098 meter / second</td>\n",
       "    </tr>\n",
       "    <tr>\n",
       "      <th>0.02</th>\n",
       "      <td>2999.99902 meter</td>\n",
       "      <td>-0.196 meter / second</td>\n",
       "    </tr>\n",
       "    <tr>\n",
       "      <th>0.03</th>\n",
       "      <td>2999.99706 meter</td>\n",
       "      <td>-0.29400000000000004 meter / second</td>\n",
       "    </tr>\n",
       "    <tr>\n",
       "      <th>0.04</th>\n",
       "      <td>2999.9941200000003 meter</td>\n",
       "      <td>-0.392 meter / second</td>\n",
       "    </tr>\n",
       "    <tr>\n",
       "      <th>...</th>\n",
       "      <td>...</td>\n",
       "      <td>...</td>\n",
       "    </tr>\n",
       "    <tr>\n",
       "      <th>29.96</th>\n",
       "      <td>-440.7491878963455 meter</td>\n",
       "      <td>-161.75500292138278 meter / second</td>\n",
       "    </tr>\n",
       "    <tr>\n",
       "      <th>29.97</th>\n",
       "      <td>-442.36673792555933 meter</td>\n",
       "      <td>-161.7587331149464 meter / second</td>\n",
       "    </tr>\n",
       "    <tr>\n",
       "      <th>29.98</th>\n",
       "      <td>-443.9843252567088 meter</td>\n",
       "      <td>-161.76245896059282 meter / second</td>\n",
       "    </tr>\n",
       "    <tr>\n",
       "      <th>29.99</th>\n",
       "      <td>-445.60194984631477 meter</td>\n",
       "      <td>-161.76618046328988 meter / second</td>\n",
       "    </tr>\n",
       "    <tr>\n",
       "      <th>30.00</th>\n",
       "      <td>-447.2196116509477 meter</td>\n",
       "      <td>-161.769897628 meter / second</td>\n",
       "    </tr>\n",
       "  </tbody>\n",
       "</table>\n",
       "<p>3002 rows × 2 columns</p>\n",
       "</div>"
      ],
      "text/plain": [
       "                               y                                    v\n",
       "0.00                3000.0 meter                   0.0 meter / second\n",
       "0.01                3000.0 meter                -0.098 meter / second\n",
       "0.02            2999.99902 meter                -0.196 meter / second\n",
       "0.03            2999.99706 meter  -0.29400000000000004 meter / second\n",
       "0.04    2999.9941200000003 meter                -0.392 meter / second\n",
       "...                          ...                                  ...\n",
       "29.96   -440.7491878963455 meter   -161.75500292138278 meter / second\n",
       "29.97  -442.36673792555933 meter    -161.7587331149464 meter / second\n",
       "29.98   -443.9843252567088 meter   -161.76245896059282 meter / second\n",
       "29.99  -445.60194984631477 meter   -161.76618046328988 meter / second\n",
       "30.00   -447.2196116509477 meter        -161.769897628 meter / second\n",
       "\n",
       "[3002 rows x 2 columns]"
      ]
     },
     "execution_count": 79,
     "metadata": {},
     "output_type": "execute_result"
    }
   ],
   "source": [
    "results_z_after, details_z= run_euler(system_z_open, slope_func_z_open)\n",
    "results_z_final=pd.concat([results_z,results_z_after])"
   ]
  },
  {
   "cell_type": "code",
   "execution_count": 80,
   "metadata": {},
   "outputs": [
    {
     "data": {
      "image/png": "[encoded data removed]",
      "text/plain": [
       "<Figure size 432x288 with 1 Axes>"
      ]
     },
     "metadata": {
      "needs_background": "light"
     },
     "output_type": "display_data"
    }
   ],
   "source": [
    "plot(results_z_final[results_z_final.y>0].y)\n",
    "decorate(xlabel='Time(s)',\n",
    "         ylabel='Height(m)')"
   ]
  },
  {
   "cell_type": "code",
   "execution_count": 81,
   "metadata": {},
   "outputs": [
    {
     "data": {
      "image/png": "[encoded data removed]",
      "text/plain": [
       "<Figure size 432x288 with 1 Axes>"
      ]
     },
     "metadata": {
      "needs_background": "light"
     },
     "output_type": "display_data"
    }
   ],
   "source": [
    "plot(results_z_final[results_z_final.y>0].v)\n",
    "decorate(xlabel='Time(s)',\n",
    "         ylabel='Speed(m/s)')"
   ]
  }
 ],
 "metadata": {
  "kernelspec": {
   "display_name": "Python 3",
   "language": "python",
   "name": "python3"
  },
  "language_info": {
   "codemirror_mode": {
    "name": "ipython",
    "version": 3
   },
   "file_extension": ".py",
   "mimetype": "text/x-python",
   "name": "python",
   "nbconvert_exporter": "python",
   "pygments_lexer": "ipython3",
   "version": "3.7.6"
  }
 },
 "nbformat": 4,
 "nbformat_minor": 4
}
